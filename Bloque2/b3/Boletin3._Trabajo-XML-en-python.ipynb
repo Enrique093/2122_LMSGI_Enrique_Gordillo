{
 "cells": [
  {
   "cell_type": "markdown",
   "metadata": {},
   "source": [
    "# Trabajo con XML en Python"
   ]
  },
  {
   "cell_type": "markdown",
   "metadata": {},
   "source": [
    "Para la realización de estos ejercicios, podeis consultar:\n",
    "1. [Video: trabajo con librería pandas en Python](https://www.youtube.com/watch?v=avGrGydcAWI)\n",
    "2. [Documento: Trabajar xon XML en Python](https://docs.google.com/document/d/1bDwPQ07CjNdeN-uxXvw8Lgm2dopt1ntkhlJnnHuCQhc/edit?usp=sharing)\n",
    "3. [Tutorial: Uso de XML en python](https://www.oulub.com/es-ES/Python/library.xml.etree.elementtree)"
   ]
  },
  {
   "cell_type": "markdown",
   "metadata": {},
   "source": [
    "### Ejercicio 1\n",
    "\n",
    "Obtener el fichero XML \"student.xml\" y convertir en un Dataframe con las siguientes columnas \"name\",\"email\",\"grade\",\"age\".<br>\n",
    "Este proceso encapsulalo en una función de nombre \"loadStudentsFromXML\" al cual se le pase un parámetro el fichero a cargar (ruta y nombre del fichero), y retorne el Dataframe obtenido"
   ]
  },
  {
   "cell_type": "code",
   "execution_count": null,
   "metadata": {},
   "outputs": [],
   "source": [
    "import xml.etree.ElementTree as et\n",
    "import pandas as pd\n",
    "\n",
    "def loadStudentsFromXML(strFile):\n",
    "\n",
    "    #cargar y parsear el fichero\n",
    "    \n",
    "    #obtener el nodo raiz\n",
    "\n",
    "    #definir los nombres de las columnas del DataFrame\n",
    "    df_cols = []\n",
    "\n",
    "    #Lista de las filas de DataFrame\n",
    "    filas = []\n",
    "\n",
    "    #recorrer el XML a través de su Nodo root y por cada iteración agregar una fila a la lista de \"filas\"\n",
    "    \n",
    "\n",
    "\n",
    "    #Finalmente, crear el DataFrame con la lista de filas y los nombres de las columnas.\n",
    "\n",
    "    #Retornas el DataFrame"
   ]
  },
  {
   "cell_type": "code",
   "execution_count": null,
   "metadata": {},
   "outputs": [],
   "source": [
    "# Probar la función\n",
    "df = loadStudentsFromXML(\"./res/student.xml\")\n",
    "print(df)"
   ]
  },
  {
   "cell_type": "markdown",
   "metadata": {},
   "source": [
    "### Ejercicio 2\n",
    "\n",
    "Utilizando el método del ejercicio-1, con el dataframe obtenido establece la columna índice a la columna \"name\""
   ]
  },
  {
   "cell_type": "code",
   "execution_count": null,
   "metadata": {},
   "outputs": [],
   "source": [
    "import pandas as pd\n",
    "df = loadStudentsFromXML(\"./res/student.xml\")\n",
    "#Establecear la columnas \"name\" como columan-índice\n",
    "df.set_index(\"Name\")\n",
    "print (df)\n"
   ]
  },
  {
   "cell_type": "markdown",
   "metadata": {},
   "source": [
    "### Ejercicio 3\n",
    "\n",
    "Carga el fichero CSV \"student.csv\" en un panda Dataframe, en el cual la columna indice sea el nombre del alumno"
   ]
  },
  {
   "cell_type": "code",
   "execution_count": 1,
   "metadata": {},
   "outputs": [
    {
     "name": "stdout",
     "output_type": "stream",
     "text": [
      "                  email grade  age\n",
      "name                              \n",
      "John      john@mail.com     A   16\n",
      "Alice    alice@mail.com     B   17\n",
      "Bob        bob@mail.com     C   16\n",
      "Hannah  hannah@mail.com     A   17\n"
     ]
    }
   ],
   "source": [
    "import pandas as pd\n",
    "df=pd.read_csv(\"./res/students.csv\")\n",
    "df=df.set_index(\"name\")\n",
    "print (df)"
   ]
  },
  {
   "cell_type": "markdown",
   "metadata": {},
   "source": [
    "### Ejercicio 4\n",
    "\n",
    "Carga el fichero CSV \"student.csv\", pero solo carga las columnas name, email y age."
   ]
  },
  {
   "cell_type": "code",
   "execution_count": null,
   "metadata": {},
   "outputs": [],
   "source": [
    "#Para obtener solo ciertas columnas, revisa los parámetros del método que se utilizar para cargar un CSV en un DataFrame\n",
    "Jesus, no se hacer este y la verdad me parece bastante complicado hacer estos ejercicios ,ademas de que mis compañeros tambien tienen bastantes dificultades.\n"
   ]
  },
  {
   "cell_type": "markdown",
   "metadata": {},
   "source": [
    "### Ejercicio 5\n",
    "\n",
    "Pasar el XML \"students.xml\" a un diccionario con la siguiente estructura.<br>\n",
    "Una lista que contenga la siguiente información:\n",
    "<br>\n",
    "```python\n",
    "[\n",
    "  {\n",
    "    \"name\": \"John\"\n",
    "    \"email\": john@mail.com,\n",
    "    \"grade\": \"A\",\n",
    "    \"age\": 16\n",
    "  {\n",
    "    \"name\": \"Alice\"\n",
    "    \"email\": \"alice@mail.com\",\n",
    "    \"grade\": \"B\",\n",
    "    \"age\": 17\n",
    "},\n",
    "   ... \n",
    "] \n",
    "```\n",
    "Definir una función \"studentsXml2Dic\" con un parámetro que sea el nombre del fichero, y retorne el diccionario construido"
   ]
  },
  {
   "cell_type": "code",
   "execution_count": 4,
   "metadata": {},
   "outputs": [
    {
     "ename": "IndentationError",
     "evalue": "unindent does not match any outer indentation level (<tokenize>, line 10)",
     "output_type": "error",
     "traceback": [
      "\u001b[1;36m  File \u001b[1;32m<tokenize>:10\u001b[1;36m\u001b[0m\n\u001b[1;33m    root=tree.getroot()\u001b[0m\n\u001b[1;37m    ^\u001b[0m\n\u001b[1;31mIndentationError\u001b[0m\u001b[1;31m:\u001b[0m unindent does not match any outer indentation level\n"
     ]
    }
   ],
   "source": [
    "import xml.etree.ElementTree as et\n",
    "import json\n",
    "\n",
    "#Pasos para la realización\n",
    "# 1. Cargar y parsear el fichero con ElementTree\n",
    "def studentsXml2Dic(strXmlFile):\n",
    "    tree= et.parse(strXmlFile)\n",
    "    listaStudent= []\n",
    "# 2. Recorrer el XML e ir creando el diccionario por cada estudiante\n",
    "    root=tree.getroot()\n",
    "# 3. Agregar a la lista cada estudiente (diccionario) generado\n",
    "for nodoStudent in list(root):\n",
    "        name=nodoStudent.attrib[\"name\"]\n",
    "        email=nodoStudent.find(\"email\").text\n",
    "        grade=nodoStudent.find(\"grade\").text\n",
    "        age=nodoStudent.find(\"age\").text\n",
    "\n",
    "        dicStudents={\n",
    "          \"name\":name,\n",
    "          \"email\":email,\n",
    "          \"grade\":grade,\n",
    "          \"age\":age\n",
    "         }\n",
    "        listaStudent.append(dicStudents)\n",
    "  return listaStudent\n",
    "\n",
    "     #Codifica la función restante\n",
    "     \n",
    "\n"
   ]
  },
  {
   "cell_type": "code",
   "execution_count": null,
   "metadata": {},
   "outputs": [],
   "source": [
    "# Probar la función\n",
    "dictStudents = studentsXml2Dic(\"./res/student.xml\")\n",
    "\n",
    "#Para facilitar la visualización, utilizar este truco utilizando la libreria json.\n",
    "print(json.dumps(dictStudents,sort_keys=True,indent=4))"
   ]
  },
  {
   "cell_type": "markdown",
   "metadata": {},
   "source": [
    "### Ejercicio 6\n",
    "\n",
    "Pasar el diccionario creado en el ejercicio anterior, a un fichero XML \"estudiantes.xml\".<br>\n",
    "La estructura será igual al fichero XML \"student.xml\" (carpeta /res).\n",
    "Para ello utilizar la libreria \"xml.etree.ElementTree\".\n",
    "Fichero resultante debe ser este: \n",
    "<br>\n",
    "```xml\n",
    "<students>\n",
    "    <student name=\"John\">\n",
    "        <email>john@mail.com</email>\n",
    "        <grade>A</grade>\n",
    "        <age>16</age>\n",
    "    </student>\n",
    "    <student name=\"Alice\">\n",
    "        <email>alice@mail.com</email>\n",
    "        <grade>B</grade>\n",
    "        <age>17</age>\n",
    "    </student>\n",
    "    <student name=\"Bob\">\n",
    "        <email>bob@mail.com</email>\n",
    "        <grade>C</grade>\n",
    "        <age>16</age>\n",
    "    </student>\n",
    "    <student name=\"Hannah\">\n",
    "        <email>hannah@mail.com</email>\n",
    "        <grade>A</grade>\n",
    "        <age>17</age>\n",
    "    </student>\n",
    "</students>\n",
    "```\n",
    "Para ello hay que teneis que utilizar la libreria  "
   ]
  },
  {
   "cell_type": "code",
   "execution_count": null,
   "metadata": {},
   "outputs": [],
   "source": [
    "import xml.etree.ElementTree as et\n",
    "import json\n",
    "\n",
    "#Pasos para la realización\n",
    "# 1. Parametros necesarios dicionario-estudiantes y nombre-fichero-xml-guardar\n",
    "# 2. Iterar por la lista de estudiantes\n",
    "# 3. Crear el nodo-raiz del XML\n",
    "# 4. Crear el nodo-estudiante\n",
    "# 5. Crear los Tag (age, email, grade)\n",
    "# 6. Agregar al nodo-estudiante los hijos (age,email,grade)\n",
    "# 7. Guardar el nodo-raiz como un fichero XML\n",
    "\n",
    "def studentsDic2Xml(dicStudents, strXmlFileToSave):\n",
    "\n",
    "    # 3. Crear el nodo-raiz del XML\n",
    "\n",
    "    # 2. Iterar por la lista de estudiantes\n",
    "\n",
    "        listaStudents=[]\n",
    "        for student in root:\n",
    "            name= nodo.attrib.get('name')\n",
    "            email=nodo.find('email').text\n",
    "            grade=nodo.find('grade').text\n",
    "            age=nodo.find('age').text\n",
    "        \n",
    "        # 2.3. Agregar al nodo-estudiante los hijos (age,email,grade)\n",
    "            dictStd={'email':email,'grade':grade,'age':age}\n",
    "            listaStudents.append(dictStudents)\n",
    "        return listaStudents"
   ]
  },
  {
   "cell_type": "code",
   "execution_count": 9,
   "metadata": {},
   "outputs": [
    {
     "data": {
      "text/plain": [
       "''"
      ]
     },
     "execution_count": 9,
     "metadata": {},
     "output_type": "execute_result"
    }
   ],
   "source": [
    "# Probar la función\n",
    "\n",
    "#Llamar a la función anterior\n",
    "dictStudents = studentsXml2Dic(\"./res/student.xml\")\n",
    "\n",
    "#Convertir el diccionario en XML ==> llamar a la función\n",
    "studentsDic2Xml(dictStudents,'./res/estudiantes.xml')"
   ]
  },
  {
   "cell_type": "markdown",
   "metadata": {},
   "source": [
    "### Ejercicio 7\n",
    "\n",
    "Pasar el XML \"ciclos-ies-gonzalo-nazareno.xml\" a la siguiente estructura python.<br>\n",
    "```python\n",
    "{\n",
    "    \"nombre\": \"IES Gonzalo Nzareno\",\n",
    "    \"web\": \"\",\n",
    "    \"ciclos\": [\n",
    "        {\n",
    "            \"id\": \"ASIR\",\n",
    "            \"nombre\": \"Administración de Sistemas informáticos en Red\",\n",
    "            \"grado\": \"Superior\",\n",
    "            \"decretoTitulo\": \"2009\"\n",
    "        },\n",
    "         {\n",
    "            \"id\": \"DAW\",\n",
    "            \"nombre\": \"Desarrollo de Aplicaciones Web\",\n",
    "            \"grado\": \"Superior\",\n",
    "            \"decretoTitulo\": \"2010\"\n",
    "        },\n",
    "    ],\n",
    "    \"modulos\": [\n",
    "        {\n",
    "            \"id\": 228,\n",
    "            \"modulo\": \"Aplicaciones Web\",\n",
    "            \"curso\": 2,\n",
    "            \"horasSemanales\": 4,\n",
    "            \"ciclo\": \"SMR\"\n",
    "        },\n",
    "         {\n",
    "            \"id\": 373,\n",
    "            \"modulo\": \"Lenguajes de marcas y sistemas de gestión de información\",\n",
    "            \"curso\": 1,\n",
    "            \"horasSemanales\": 4,\n",
    "            \"ciclo\": [\"ASIR\", \"DAW\", \"DAM\" ]\n",
    "        },\n",
    "    ]\n",
    "} \n",
    "```\n",
    "Definir una función \"ciclosXml2Dic\" con un parámetro que sea el nombre del fichero, y retorne la estructura construida."
   ]
  },
  {
   "cell_type": "code",
   "execution_count": 2,
   "metadata": {},
   "outputs": [],
   "source": [
    "import xml.etree.ElementTree as et\n",
    "import json\n",
    "\n",
    "#Pasos para la realización\n",
    "# 1. Cargar y parsear el fichero con ElementTree\n",
    "# 2. Recorrer el XML e ir creando el diccionario por cada estudiante\n",
    "# 3. Agregar a la lista cada estudiente (diccionario) generado\n",
    "\n",
    "def ciclosXml2Dic(strXmlFile):\n",
    "\n",
    "    #Cargar y parsear el ficheero\n",
    "    tree=et.parse(strXmlFile)\n",
    "    listaStudent=[]\n",
    "    #Obtener el nodo raiz\n",
    "    root=tree.getroot()\n",
    "\n",
    "    #Variables iniciales\n",
    "    dc = {}\n",
    "    ciclos = []\n",
    "    modulos = []\n",
    "\n",
    "    # Cargar el nombre y la web\n",
    "    for nodoIes in list(root):\n",
    "        nombre=nodoIes.find[\"nombre\"]\n",
    "        web=nodoIes.find[\"web\"]\n",
    "\n",
    "\n",
    "    # Obtener los ciclos\n",
    "    for nodoCiclos in list(root):\n",
    "         idCiclo=nodoCiclos.find(\"id\")\n",
    "         nombreCiclo=nodoCiclos.find(\"nombre\")\n",
    "         grado=nodoCiclos.find(\"grado\")\n",
    "         decretoTitulo=nodoCiclos.find(\"decretoTitulo\")\n",
    "\n",
    "         ciclos.append(idCiclo, nombreCiclo, grado, decretoTitulo)\n",
    "\n",
    "    # Obtener los módulos\n",
    "    for nodoModulos in list(root):\n",
    "        idModulo=nodoModulos.find(\"id\")\n",
    "        modulo=nodoModulos.find(\"modulo\")\n",
    "        curso=nodoModulos.find(\"curso\")\n",
    "        horasSemanales=nodoModulos.find(\"horasSemanales\")\n",
    "        ciclo=nodoModulos.find(\"ciclo\")\n",
    "\n",
    "        modulos.append(idModulo, modulo, curso, horasSemanales, ciclo)\n",
    "\n",
    "    ## Formar el diccionario final\n",
    "    dc={\n",
    "            \"nombre\":nombre,\n",
    "            \"web\":web,\n",
    "            \"ciclos\":ciclos,\n",
    "            \"modulos\":modulos\n",
    "        }\n",
    "\n",
    "    # Retornar el diccionario\n",
    "    return dc"
   ]
  },
  {
   "cell_type": "code",
   "execution_count": null,
   "metadata": {},
   "outputs": [],
   "source": [
    "#Probar la función\n",
    "dict = ciclosXml2Dic(\"./res/ciclos-ies-gonzalo-nazareno.xml\")\n",
    "print(dict)"
   ]
  },
  {
   "cell_type": "markdown",
   "metadata": {},
   "source": [
    "### CORRECCION BOLETÍN\n",
    "\n",
    "Muy mal, y muy poco trabajo. Nada que no sepas Enrique."
   ]
  }
 ],
 "metadata": {
  "interpreter": {
   "hash": "ec9676ad9f5f678c6129e80930667ff10a4176bd4043345bcdc6bd53c57c67c7"
  },
  "kernelspec": {
   "display_name": "Python 3.9.10 64-bit (windows store)",
   "language": "python",
   "name": "python3"
  },
  "language_info": {
   "codemirror_mode": {
    "name": "ipython",
    "version": 3
   },
   "file_extension": ".py",
   "mimetype": "text/x-python",
   "name": "python",
   "nbconvert_exporter": "python",
   "pygments_lexer": "ipython3",
   "version": "3.9.12"
  },
  "orig_nbformat": 4
 },
 "nbformat": 4,
 "nbformat_minor": 2
}
