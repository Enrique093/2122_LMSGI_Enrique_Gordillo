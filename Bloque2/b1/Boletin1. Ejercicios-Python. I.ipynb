{
 "cells": [
  {
   "cell_type": "markdown",
   "metadata": {},
   "source": [
    "# Índice\n",
    "\n",
    "1. [Funciones](#funcions)\n",
    "2. [Trabajo con listas](#list)\n",
    "2. [Trabajo con diccionadrios](#dict)\n"
   ]
  },
  {
   "cell_type": "markdown",
   "metadata": {},
   "source": [
    "<a id=\"functions\"></a>\n",
    "# Funciones\n"
   ]
  },
  {
   "cell_type": "markdown",
   "metadata": {},
   "source": [
    "## 1º. Función Max()\n"
   ]
  },
  {
   "cell_type": "markdown",
   "metadata": {},
   "source": [
    "Definir una función max() que tome como argumento dos números y devuelva el mayor de ellos. (Es cierto que python tiene una función max() incorporada, pero hacerla nosotros mismos es un muy buen ejercicio.\n",
    "<!--  -->\n",
    "(Se debe incluir una casilla para definir la función, y otras casillas para los posibles casos)"
   ]
  },
  {
   "cell_type": "code",
   "execution_count": 405,
   "metadata": {},
   "outputs": [],
   "source": [
    "# definir funcion\n",
    "def max(num1,num2):\n",
    "    if(num1>=num2):\n",
    "        return num1\n",
    "    return num2"
   ]
  },
  {
   "cell_type": "code",
   "execution_count": 406,
   "metadata": {},
   "outputs": [
    {
     "name": "stdout",
     "output_type": "stream",
     "text": [
      "max 7,20: 20\n",
      "max 5,3: 5\n"
     ]
    }
   ],
   "source": [
    "# Probar la funcion\n",
    "print(\"max 7,20:\", max(7,20))\n",
    "print(\"max 5,3:\", max(5,3))"
   ]
  },
  {
   "cell_type": "markdown",
   "metadata": {},
   "source": [
    "<a id=\"2\"></a>\n",
    "## 2º. Función Max() con 3 valores\n"
   ]
  },
  {
   "cell_type": "markdown",
   "metadata": {},
   "source": [
    "Definir una función max_de_tres(), que tome tres números como argumentos y devuelva el mayor de ellos."
   ]
  },
  {
   "cell_type": "code",
   "execution_count": 407,
   "metadata": {},
   "outputs": [
    {
     "data": {
      "text/plain": [
       "8"
      ]
     },
     "execution_count": 407,
     "metadata": {},
     "output_type": "execute_result"
    }
   ],
   "source": [
    "def mayor_de_tres(lista):\n",
    "    max=0\n",
    "    for n in lista:\n",
    "        if(n>max):\n",
    "            max=n\n",
    "    return max\n",
    "   \n",
    "mayor_de_tres([2,5,8])"
   ]
  },
  {
   "cell_type": "markdown",
   "metadata": {},
   "source": [
    "<a id=\"3\"></a>\n",
    "## 3º. Función Len()\n"
   ]
  },
  {
   "cell_type": "markdown",
   "metadata": {},
   "source": [
    "Definir una función que calcule la longitud de una lista o una cadena dada. (Es cierto que python tiene la función len() incorporada, pero escribirla por nosotros mismos resulta un muy buen ejercicio."
   ]
  },
  {
   "cell_type": "code",
   "execution_count": 408,
   "metadata": {},
   "outputs": [],
   "source": [
    "lista = ['a','b','c','d','e']"
   ]
  },
  {
   "cell_type": "code",
   "execution_count": 409,
   "metadata": {},
   "outputs": [
    {
     "name": "stdout",
     "output_type": "stream",
     "text": [
      "5\n"
     ]
    }
   ],
   "source": [
    "# Probar la funcion\n",
    "print(len(lista))"
   ]
  },
  {
   "cell_type": "markdown",
   "metadata": {},
   "source": [
    "<a id=\"4\"></a>\n",
    "## 4º. EsVocal\n"
   ]
  },
  {
   "cell_type": "markdown",
   "metadata": {},
   "source": [
    "Escribir una función que tome un carácter y devuelva True si es una vocal, de lo contrario devuelve False."
   ]
  },
  {
   "cell_type": "code",
   "execution_count": 410,
   "metadata": {},
   "outputs": [],
   "source": [
    "# Definir la función\n",
    "def es_vocal (c):\n",
    "    if c == \"a\" or c == \"e\" or c == \"i\" or c == \"o\" or c== \"u\":\n",
    "        return True\n",
    "\n",
    "    elif c == \"A\" or c == \"E\" or c == \"I\" or c == \"O\" or c == \"U\":\n",
    "        return True\n",
    "\n",
    "    return False\n",
    "\n",
    "\n",
    "\n"
   ]
  },
  {
   "cell_type": "code",
   "execution_count": 411,
   "metadata": {},
   "outputs": [
    {
     "name": "stdout",
     "output_type": "stream",
     "text": [
      "False\n"
     ]
    }
   ],
   "source": [
    "# Probar la funcion\n",
    "caracter = input(\"introduce una letra por favor: \")\n",
    "print(es_vocal(caracter))\n"
   ]
  },
  {
   "cell_type": "markdown",
   "metadata": {},
   "source": [
    "<a id=\"5\"></a>\n",
    "## 5º. Sumar y multiplicar\n"
   ]
  },
  {
   "cell_type": "markdown",
   "metadata": {},
   "source": [
    "Escribir una función sum() y una función multip() que sumen y multipliquen respectivamente todos los números de una lista. Por ejemplo: sum([1,2,3,4]) debería devolver 10 y multip([1,2,3,4]) debería devolver 24."
   ]
  },
  {
   "cell_type": "code",
   "execution_count": 412,
   "metadata": {},
   "outputs": [],
   "source": [
    "# Definir la función\n",
    "def multLista(lista):\n",
    "    result=1\n",
    "    for n in lista:\n",
    "     result*=n\n",
    "\n",
    "    return result"
   ]
  },
  {
   "cell_type": "code",
   "execution_count": 413,
   "metadata": {},
   "outputs": [
    {
     "data": {
      "text/plain": [
       "56"
      ]
     },
     "execution_count": 413,
     "metadata": {},
     "output_type": "execute_result"
    }
   ],
   "source": [
    "# Probar la funcion\n",
    "multLista([2,1,4,7])"
   ]
  },
  {
   "cell_type": "markdown",
   "metadata": {},
   "source": [
    "<a id=\"6\"></a>\n",
    "## 6º. Invertir cadena\n"
   ]
  },
  {
   "cell_type": "markdown",
   "metadata": {},
   "source": [
    " Definir una función inversa() que calcule la inversión de una cadena. Por ejemplo la cadena \"estoy probando\" debería devolver la cadena \"odnaborp yotse\""
   ]
  },
  {
   "cell_type": "code",
   "execution_count": 414,
   "metadata": {},
   "outputs": [],
   "source": [
    "# Definir la función\n",
    "def invertir_cadena(invertir):\n",
    "    i=len(invertir)-1\n",
    "    invertida=\"\"\n",
    "    while (i>=0):\n",
    "        invertida=invertida+invertir[i]\n",
    "        i=i-1\n",
    "    return invertida\n",
    "\n"
   ]
  },
  {
   "cell_type": "code",
   "execution_count": 415,
   "metadata": {},
   "outputs": [
    {
     "data": {
      "text/plain": [
       "'aloh'"
      ]
     },
     "execution_count": 415,
     "metadata": {},
     "output_type": "execute_result"
    }
   ],
   "source": [
    "# Probar la funcion\n",
    "invertir_cadena(\"hola\")"
   ]
  },
  {
   "cell_type": "markdown",
   "metadata": {},
   "source": [
    "<a id=\"7\"></a>\n",
    "## 7º. EsPalindromo\n"
   ]
  },
  {
   "cell_type": "markdown",
   "metadata": {},
   "source": [
    "  Definir una función es_palindromo() que reconoce palíndromos (es decir, palabras que tienen el mismo aspecto escritas invertidas), ejemplo: es_palindromo (\"radar\") tendría que devolver True."
   ]
  },
  {
   "cell_type": "code",
   "execution_count": 416,
   "metadata": {},
   "outputs": [],
   "source": [
    "# Definir la función\n",
    "def invertir_cadena(invertir):\n",
    "    i=len(invertir)-1\n",
    "    invertida=\"\"\n",
    "    while (i>=0):\n",
    "        invertida=invertida+invertir[i]\n",
    "        i=i-1\n",
    "    return invertida\n",
    "\n",
    "# Definir la función 2\n",
    "\n",
    "def palindromo(letra):\n",
    "    if(letra == invertir_cadena(letra)):\n",
    "        return True\n",
    "    return False\n"
   ]
  },
  {
   "cell_type": "code",
   "execution_count": 417,
   "metadata": {},
   "outputs": [
    {
     "data": {
      "text/plain": [
       "True"
      ]
     },
     "execution_count": 417,
     "metadata": {},
     "output_type": "execute_result"
    }
   ],
   "source": [
    "# Probar la funcion\n",
    "palindromo(\"radar\")"
   ]
  },
  {
   "cell_type": "markdown",
   "metadata": {},
   "source": [
    "<a id=\"8\"></a>\n",
    "## 8º. Superposición\n"
   ]
  },
  {
   "cell_type": "markdown",
   "metadata": {},
   "source": [
    "  Definir una función superposicion() que tome dos listas y devuelva True si tienen al menos 1 miembro en común o devuelva False de lo contrario. Escribir la función usando el bucle for anidado."
   ]
  },
  {
   "cell_type": "code",
   "execution_count": 418,
   "metadata": {},
   "outputs": [],
   "source": [
    "# Definir la función\n",
    "def superposicion(lista1,lista2):\n",
    "\n",
    "\tlistado1 = lista1.split()\n",
    "\tlistado2 = lista2.split()\n",
    "\tresultado = False\n",
    "\tfor i in range(0,len(listado1)):\n",
    "\t\tfor listado1[i] in range(0,len(listado2)):\n",
    "\t\t\tif listado1[i]==listado2[x]:\n",
    "\t\t\t\tresultado =  True\n",
    "\tprint (resultado)\n"
   ]
  },
  {
   "cell_type": "code",
   "execution_count": 419,
   "metadata": {},
   "outputs": [],
   "source": [
    "# Probar la funcion\n",
    "\n"
   ]
  },
  {
   "cell_type": "markdown",
   "metadata": {},
   "source": [
    "<a id=\"8\"></a>\n",
    "## 8º. Generar N carácteres\n"
   ]
  },
  {
   "cell_type": "markdown",
   "metadata": {},
   "source": [
    "Definir una función generar_n_caracteres() que tome un entero n y devuelva el caracter multiplicado por n. Por ejemplo: generar_n_caracteres(5, \"x\") debería devolver \"xxxxx\".  (Pista: multiplicar)\n"
   ]
  },
  {
   "cell_type": "code",
   "execution_count": 420,
   "metadata": {},
   "outputs": [],
   "source": [
    "# Definir la función\n",
    "def generar_caracteres (repetir, caracter_repetir):\n",
    "    i=0\n",
    "    valorRetorno=\"\"\n",
    "    while(i<=repetir):\n",
    "        valorRetorno=valorRetorno+caracter_repetir\n",
    "        i+=1\n",
    "    return valorRetorno"
   ]
  },
  {
   "cell_type": "code",
   "execution_count": 421,
   "metadata": {},
   "outputs": [
    {
     "data": {
      "text/plain": [
       "'xxxxxxxx'"
      ]
     },
     "execution_count": 421,
     "metadata": {},
     "output_type": "execute_result"
    }
   ],
   "source": [
    "# Probar la funcion\n",
    "generar_caracteres(7,\"x\")"
   ]
  },
  {
   "cell_type": "markdown",
   "metadata": {},
   "source": [
    "<a id=\"9\"></a>\n",
    "## 9º. Histograma\n"
   ]
  },
  {
   "cell_type": "markdown",
   "metadata": {},
   "source": [
    "Definir un histograma procedimiento() que tome una lista de números enteros e imprima un histograma en la pantalla. Ejemplo: procedimiento([4, 9, 7]) debería imprimir lo siguiente: <br>\n",
    "++++<br>\n",
    "+++++++++<br>\n",
    "+++++++<br>\n"
   ]
  },
  {
   "cell_type": "code",
   "execution_count": 422,
   "metadata": {},
   "outputs": [],
   "source": [
    "# Definir la función\n",
    "def generar_caracteres (repetir, caracter_repetir):\n",
    "    i=0\n",
    "    valorRetorno=\"\"\n",
    "    while(i<=repetir):\n",
    "        valorRetorno=valorRetorno+caracter_repetir\n",
    "        i+=1\n",
    "    return valorRetorno\n",
    "\n",
    "# Definir la función\n",
    "def histograma(lista_num_lineas):\n",
    "    for num in lista_num_lineas:\n",
    "        cadenagenerada= generar_caracteres(num-1,'+')\n",
    "        print (cadenagenerada)"
   ]
  },
  {
   "cell_type": "code",
   "execution_count": 423,
   "metadata": {},
   "outputs": [
    {
     "name": "stdout",
     "output_type": "stream",
     "text": [
      "+\n",
      "+++++\n",
      "+++++++\n"
     ]
    }
   ],
   "source": [
    "# Probar la funcion\n",
    "listaN=[1,5,7]\n",
    "histograma(listaN)"
   ]
  },
  {
   "cell_type": "markdown",
   "metadata": {},
   "source": [
    "<a id=\"list\"></a>\n",
    "# Trabajo con listas\n",
    "\n",
    "[Ayuda sobre listas en python](https://www.w3schools.com/python/python_lists.asp)<br><br>"
   ]
  },
  {
   "cell_type": "markdown",
   "metadata": {},
   "source": [
    "\n",
    "## 1º. Sumar elementos lista\n"
   ]
  },
  {
   "cell_type": "markdown",
   "metadata": {},
   "source": [
    "Definir una función para sumar todos los elementos de una lista pasada como parámetro\n"
   ]
  },
  {
   "cell_type": "code",
   "execution_count": 548,
   "metadata": {},
   "outputs": [
    {
     "name": "stdout",
     "output_type": "stream",
     "text": [
      "Escribe los numeros que quieras sumar en el cuadrado donde pone sumar abajo\n"
     ]
    }
   ],
   "source": [
    "# Definir la función\n",
    "print(\"Escribe los numeros que quieras sumar en el cuadrado donde pone sumar abajo\")\n",
    "def sumar(num1):\n",
    "    result = 0\n",
    "    for num2 in num1:\n",
    "        result += num2\n",
    "    print (result)\n",
    "\n",
    "\n",
    "\n"
   ]
  },
  {
   "cell_type": "code",
   "execution_count": 550,
   "metadata": {},
   "outputs": [
    {
     "name": "stdout",
     "output_type": "stream",
     "text": [
      "21\n"
     ]
    }
   ],
   "source": [
    "# Probar la funcion\n",
    "#Aquí -->\n",
    "sumar([8,7,6]) "
   ]
  },
  {
   "cell_type": "markdown",
   "metadata": {},
   "source": [
    "\n",
    "## 2º. Multiplicar elementos lista\n"
   ]
  },
  {
   "cell_type": "markdown",
   "metadata": {},
   "source": [
    "Definir una función para multiplicar todos los elementos de una lista pasada como parámetro\n"
   ]
  },
  {
   "cell_type": "code",
   "execution_count": 561,
   "metadata": {},
   "outputs": [
    {
     "name": "stdout",
     "output_type": "stream",
     "text": [
      "Escribe los numeros que quieras multiplicar en el cuadrado donde pone mult abajo\n"
     ]
    }
   ],
   "source": [
    "# Definir la función\n",
    "print(\"Escribe los numeros que quieras multiplicar en el cuadrado donde pone mult abajo\")\n",
    "def mult(num1):\n",
    "    result = 1\n",
    "    for num2 in num1:\n",
    "        result *= num2\n",
    "    print (result)\n"
   ]
  },
  {
   "cell_type": "code",
   "execution_count": 562,
   "metadata": {},
   "outputs": [
    {
     "name": "stdout",
     "output_type": "stream",
     "text": [
      "72\n"
     ]
    }
   ],
   "source": [
    "# Probar la funcion\n",
    "mult([9,4,2]) "
   ]
  },
  {
   "cell_type": "markdown",
   "metadata": {},
   "source": [
    "\n",
    "## 3º. Obtener elemento mayor lista\n"
   ]
  },
  {
   "cell_type": "markdown",
   "metadata": {},
   "source": [
    "Definir una función que obtenga el elemento mayor de la lista pasada como parámetro\n"
   ]
  },
  {
   "cell_type": "code",
   "execution_count": 577,
   "metadata": {},
   "outputs": [],
   "source": [
    "# Definir la función\n",
    "def maximo (valores):\n",
    "    mayor=valores[0]\n",
    "\n",
    "    for i in range(1, len(valores)):\n",
    "        if valores[i] > mayor:\n",
    "            mayor = valores[i]\n",
    "     \n",
    "    return mayor\n",
    "\n",
    "lista=[-1,5,7,8,9]\n"
   ]
  },
  {
   "cell_type": "code",
   "execution_count": 578,
   "metadata": {},
   "outputs": [
    {
     "name": "stdout",
     "output_type": "stream",
     "text": [
      "9\n"
     ]
    }
   ],
   "source": [
    "# Probar la funcion\n",
    "\n",
    "print(maximo(lista))\n",
    "\n"
   ]
  },
  {
   "cell_type": "markdown",
   "metadata": {},
   "source": [
    "\n",
    "## 4º. Cadenas mayores a 2 con inicio y fin iguales\n"
   ]
  },
  {
   "cell_type": "markdown",
   "metadata": {},
   "source": [
    "Definir una función que cuente el nº de cadenas que cumplan:<br> a) donde la longitud mínima de cadena debe ser 2<br> b) el primer y último carácter sean iguales<br><br>\n",
    "Ejemplo: ['abc', 'xyz', 'aba', '1221']<br>\n",
    "Resultado: 2\n"
   ]
  },
  {
   "cell_type": "code",
   "execution_count": 586,
   "metadata": {},
   "outputs": [],
   "source": [
    "# Definir la función\n",
    "lista=['maria','angel','radar','enrique']\n",
    "\n",
    "def ContarCaracterFinal (lista):\n",
    "    numContador=0\n",
    "\n",
    "    for palabra in lista:\n",
    "\n",
    "        if (len(palabra)>=2) and palabra[0]==palabra[len(palabra)-1]:\n",
    "            numContador+=1\n",
    "    return numContador\n",
    "    \n",
    "\n"
   ]
  },
  {
   "cell_type": "code",
   "execution_count": 587,
   "metadata": {},
   "outputs": [
    {
     "data": {
      "text/plain": [
       "2"
      ]
     },
     "execution_count": 587,
     "metadata": {},
     "output_type": "execute_result"
    }
   ],
   "source": [
    "# Probar la funcion\n",
    "ContarCaracterFinal(lista)\n"
   ]
  },
  {
   "cell_type": "markdown",
   "metadata": {},
   "source": [
    "\n",
    "## 5º. Ordenar lista por último elemento de la tupla\n"
   ]
  },
  {
   "cell_type": "markdown",
   "metadata": {},
   "source": [
    "Definir una función que reciba una lista de tuplas, y que ordene la lista por el útlimo elemento de la tupla<br><br>\n",
    "Lista a pasar : [(2, 5), (1, 2), (4, 4), (2, 3), (2, 1)]<br>\n",
    "Resultado-esperado : [(2, 1), (1, 2), (2, 3), (4, 4), (2, 5)]"
   ]
  },
  {
   "cell_type": "code",
   "execution_count": 502,
   "metadata": {},
   "outputs": [
    {
     "data": {
      "text/plain": [
       "[(1, 2), (2, 5), (1, 5), (6, 6), (2, 8)]"
      ]
     },
     "execution_count": 502,
     "metadata": {},
     "output_type": "execute_result"
    }
   ],
   "source": [
    "# Definir la función\n",
    "import operator\n",
    "\n",
    "lista=[(2,5),(1,2),(2,8),(1,5),(6,6)]\n",
    "\n",
    "def MyFn(a):\n",
    "    return a[1]\n",
    "\n",
    "sorted(lista,key=MyFn)"
   ]
  },
  {
   "cell_type": "code",
   "execution_count": 503,
   "metadata": {},
   "outputs": [
    {
     "name": "stdout",
     "output_type": "stream",
     "text": [
      "adios 1\n",
      "adios 2\n",
      "adios 3\n",
      "adios 4\n",
      "adios 5\n",
      "adios 6\n",
      "adios 7\n",
      "adios 8\n",
      "adios 9\n",
      "adios 10\n"
     ]
    }
   ],
   "source": [
    "# Probar la funcion\n",
    "def ImprimeAdios(num):\n",
    "    print(\"adios\",num)\n",
    "\n",
    "def sorteda(lsita,funcion):\n",
    "    for item in lista:\n",
    "        funcion(item)\n",
    "\n",
    "        \n",
    "lista=[1,2,3,4,5,6,7,8,9,10]\n",
    "sorteda(lista,ImprimeAdios)"
   ]
  },
  {
   "cell_type": "markdown",
   "metadata": {},
   "source": [
    "\n",
    "## 6º. Eliminar duplicados en lista\n"
   ]
  },
  {
   "cell_type": "markdown",
   "metadata": {},
   "source": [
    "Definir una función que elimine los elementos duplicados de una lista"
   ]
  },
  {
   "cell_type": "code",
   "execution_count": 504,
   "metadata": {},
   "outputs": [],
   "source": [
    "# Definir la función\n",
    "def eliminar_duplicado(lista):\n",
    "  listaUnicos=[]\n",
    "  for n in lista:\n",
    "     if n not in listaUnicos:\n",
    "          listaUnicos.append(n)\n",
    "  return listaUnicos\n"
   ]
  },
  {
   "cell_type": "code",
   "execution_count": 505,
   "metadata": {},
   "outputs": [
    {
     "data": {
      "text/plain": [
       "[1, 2, 3]"
      ]
     },
     "execution_count": 505,
     "metadata": {},
     "output_type": "execute_result"
    }
   ],
   "source": [
    "# Probar la funcion\n",
    "eliminar_duplicado([1,2,3,3,2])"
   ]
  },
  {
   "cell_type": "markdown",
   "metadata": {},
   "source": [
    "\n",
    "## 7º. Lista vacia?\n"
   ]
  },
  {
   "cell_type": "markdown",
   "metadata": {},
   "source": [
    "Definir una función isEmpty que reciba como parametro una lista e indica si está vacia"
   ]
  },
  {
   "cell_type": "code",
   "execution_count": 506,
   "metadata": {},
   "outputs": [],
   "source": [
    "# Definir la función\n",
    "def isEmpty (lista):\n",
    "    return len(lista)==0"
   ]
  },
  {
   "cell_type": "code",
   "execution_count": 507,
   "metadata": {},
   "outputs": [
    {
     "data": {
      "text/plain": [
       "False"
      ]
     },
     "execution_count": 507,
     "metadata": {},
     "output_type": "execute_result"
    }
   ],
   "source": [
    "# Probar la funcion\n",
    "isEmpty([1,3,5])"
   ]
  },
  {
   "cell_type": "markdown",
   "metadata": {},
   "source": [
    "\n",
    "## 8º. Primeros y últimos al cuadrado\n"
   ]
  },
  {
   "cell_type": "markdown",
   "metadata": {},
   "source": [
    "Escribir un programa/función que genera e imprime una lista de los primeros y últimos 5 elementos donde los valores son elevados al cuadrado. Generar los números entre 1 y 30 ambos incluidos.\n",
    "[Imagen ejemplo](https://www.w3resource.com/w3r_images/Python-data-type-list-excercise-16.png)"
   ]
  },
  {
   "cell_type": "code",
   "execution_count": 596,
   "metadata": {},
   "outputs": [
    {
     "name": "stdout",
     "output_type": "stream",
     "text": [
      "0\n",
      "1\n",
      "4\n",
      "9\n",
      "16\n",
      "25\n",
      "625\n",
      "676\n",
      "729\n",
      "784\n",
      "841\n",
      "900\n"
     ]
    }
   ],
   "source": [
    "# Definir la función\n",
    "for x in range(31):\n",
    "    if x>24 :\n",
    "        resultadoElevado=x*x\n",
    "        print(resultadoElevado)\n",
    "    if  x<6:\n",
    "        resultadoElevadoPrimeros = x*x\n",
    "        print(resultadoElevadoPrimeros)\n"
   ]
  },
  {
   "cell_type": "code",
   "execution_count": 509,
   "metadata": {},
   "outputs": [],
   "source": [
    "# Probar la funcion"
   ]
  },
  {
   "cell_type": "markdown",
   "metadata": {},
   "source": [
    "\n",
    "## 9º. Concatenar elementos\n"
   ]
  },
  {
   "cell_type": "markdown",
   "metadata": {},
   "source": [
    "Definir una función para crear un lista concatenando a cada elemento de la lista, todos los números en una secuencia, desde 1 a N, siendo N pasado como parámetro.<br><br>\n",
    "Lista-ejemplo : ['p', 'q']<br>\n",
    "n =5<br>\n",
    "Resultado esperado : ['p1', 'q1', 'p2', 'q2', 'p3', 'q3', 'p4', 'q4', 'p5', 'q5']<br>"
   ]
  },
  {
   "cell_type": "code",
   "execution_count": 620,
   "metadata": {},
   "outputs": [
    {
     "name": "stdout",
     "output_type": "stream",
     "text": [
      "['p', 'q']\n",
      "['p', 'q'] 1\n",
      "['p', 'q'] 2\n"
     ]
    }
   ],
   "source": [
    "# Definir la función\n",
    "num=1\n",
    "lista=['p','q']\n",
    "print (lista)\n",
    "\n",
    "for x in lista:\n",
    "    print(lista,num)\n",
    "    num=num+1\n"
   ]
  },
  {
   "cell_type": "code",
   "execution_count": 511,
   "metadata": {},
   "outputs": [],
   "source": [
    "# Probar la funcion"
   ]
  },
  {
   "cell_type": "markdown",
   "metadata": {},
   "source": [
    "\n",
    "## 10º. Generar grupos de 5 elementos\n"
   ]
  },
  {
   "cell_type": "markdown",
   "metadata": {},
   "source": [
    "Definir una función que genere grupos de 5 consecutivos números dentro de una lista.<br>\n",
    "[Imagen ejemplo](https://www.w3resource.com/w3r_images/Python-data-type-list-excercise-44.png)<br>\n",
    "\n",
    "Se puede realizar de 2 formas:<br><br>\n",
    "\n",
    "a) con for y agregando a listas<br>\n",
    "b) con listas comprimidas(https://www.w3schools.com/python/python_lists_comprehension.asp)"
   ]
  },
  {
   "cell_type": "code",
   "execution_count": 608,
   "metadata": {},
   "outputs": [
    {
     "name": "stdout",
     "output_type": "stream",
     "text": [
      "1\n",
      "2\n",
      "3\n",
      "4\n",
      "5\n",
      "*************\n",
      "6\n",
      "7\n",
      "8\n",
      "9\n",
      "10\n",
      "*************\n",
      "11\n",
      "12\n",
      "13\n",
      "14\n",
      "15\n"
     ]
    }
   ],
   "source": [
    "# Definir la función\n",
    "lista=(1,2,3,4,5,6,7,8,9,10,11,12,13,14,15,16,17.18,19,20)\n",
    "\n",
    "for n in lista:\n",
    "    if n<=5:\n",
    "       print(lista[n-1])\n",
    "\n",
    "print(\"*************\")\n",
    "\n",
    "for n in lista:\n",
    "    if n >=6 and n<=10:\n",
    "        print(lista[n-1])\n",
    "print(\"*************\")\n",
    "for n in lista:\n",
    "    if n >=11 and n<=15:\n",
    "        print(lista[n-1])   "
   ]
  },
  {
   "cell_type": "code",
   "execution_count": 513,
   "metadata": {},
   "outputs": [],
   "source": [
    "# Probar la función\n"
   ]
  },
  {
   "cell_type": "markdown",
   "metadata": {},
   "source": [
    "<a id=\"dict\"></a>\n",
    "# Trabajo con diccionarios\n",
    "\n",
    "[Ayuda sobre diccionarios en python](https://www.w3schools.com/python/python_dictionaries.asp)"
   ]
  },
  {
   "cell_type": "markdown",
   "metadata": {},
   "source": [
    "\n",
    "## 1º. Operaciones básicas sobre diccionarios\n"
   ]
  },
  {
   "cell_type": "markdown",
   "metadata": {},
   "source": [
    "Definir un código para iterar sobre los elementos del siguiente diccionario\n",
    "\n",
    "Equipo = {'Rafa':'Científico de datos',\n",
    "         'Pedro':'Arquitecto de datos',\n",
    "         'Javier':'Ingeniero de datos',\n",
    "         'Antonio':'Director'}\n",
    "<br>        \n",
    "Imprimiendo la siguiente salida:<br>\n",
    "\n",
    "Rafa - Científico de datos<br>\n",
    "Pedro - Arquitecto de datos<br>\n",
    "Javier - Ingeniero de datos<br>\n",
    "Antonio - Director<br>"
   ]
  },
  {
   "cell_type": "code",
   "execution_count": 514,
   "metadata": {},
   "outputs": [
    {
     "name": "stdout",
     "output_type": "stream",
     "text": [
      "['rafa', 'pedro', 'javier', 'antonio', 'jorge']\n",
      "a\n",
      "n\n",
      "a\n",
      "ñ\n",
      "a\n",
      "m\n"
     ]
    }
   ],
   "source": [
    "# Definir el código\n",
    "compañeros=[\"rafa\",\"pedro\",\"javier\",\"antonio\"]\n",
    "if (\"jorge\" not in compañeros):\n",
    "    compañeros.append(\"jorge\")\n",
    "\n",
    "print(compañeros)\n",
    "\n",
    "palabra = \"mañana\"\n",
    "\n",
    "for letra in palabra[::-1]:\n",
    "    print(letra)\n"
   ]
  },
  {
   "cell_type": "code",
   "execution_count": 515,
   "metadata": {},
   "outputs": [
    {
     "name": "stdout",
     "output_type": "stream",
     "text": [
      "[1, 2, 5, 6, 7]\n"
     ]
    }
   ],
   "source": [
    "l =[]\n",
    "l = [1,2,5,6,7]\n",
    "\n",
    "lista_de_profesiones=['cietifico de datos','arquitecto de datos','ingeniero','director']\n",
    "lista_de_profesiones[1]\n",
    "\n",
    "d={}\n",
    "\n",
    "\n",
    "Equipo =    {'rafa':[1,2,5,6,7],\n",
    "             'pedro':'arquitecto de datos',\n",
    "             'javier':'ingeniero',\n",
    "             'antonio':'director'}\n",
    "\n",
    "print(Equipo[\"rafa\"])\n",
    "\n",
    "#for key,value in Equipo.items():\n",
    "#    print(key,'-',value)\n"
   ]
  },
  {
   "cell_type": "code",
   "execution_count": 516,
   "metadata": {},
   "outputs": [],
   "source": [
    "# Otener el nombre del Equipo de Pedro\n",
    "\n",
    "Equipo=[\"pedro\"]"
   ]
  },
  {
   "cell_type": "markdown",
   "metadata": {},
   "source": [
    "\n",
    "## 2º. Concatenear diccionarios\n"
   ]
  },
  {
   "cell_type": "markdown",
   "metadata": {},
   "source": [
    "Definir una función para concatenar 2 diccionarios pasados como parámetros.  [Imagen ilustrativa](https://www.w3resource.com/w3r_images/python-data-type-dictionary-image-exercise-3.png)\n",
    "\n",
    "Ejemplo diccionario: dic1={1:10, 2:20} dic2={3:30, 4:40}\n",
    "\n",
    "Experado resultado: {1: 10, 2: 20, 3: 30, 4: 40, 5: 50, 6: 60}"
   ]
  },
  {
   "cell_type": "code",
   "execution_count": 517,
   "metadata": {},
   "outputs": [],
   "source": [
    "# Definir el código\n",
    "dic1={1:10, 2:20} \n",
    "dic2={3:30, 4:40}\n",
    "\n",
    "def concatenateDictionary(dic1,dci2):\n",
    "   dictFinal = dict(dic1)\n",
    "   dictFinal.update(dic2)\n",
    "   return dictFinal"
   ]
  },
  {
   "cell_type": "code",
   "execution_count": 518,
   "metadata": {},
   "outputs": [
    {
     "data": {
      "text/plain": [
       "{1: 10, 2: 20, 3: 30, 4: 40}"
      ]
     },
     "execution_count": 518,
     "metadata": {},
     "output_type": "execute_result"
    }
   ],
   "source": [
    "# Probar el código\n",
    "\n",
    "dic1={1:10, 2:20} \n",
    "dic2={3:30, 4:40}\n",
    "\n",
    "concatenateDictionary(dic1,dic2)\n"
   ]
  },
  {
   "cell_type": "markdown",
   "metadata": {},
   "source": [
    "\n",
    "## 3º. Generar diccionario \n"
   ]
  },
  {
   "cell_type": "markdown",
   "metadata": {},
   "source": [
    "Definir una función que genere un diccionario que contiene un número entre (1 y N) en la forma (x,x*x).\n",
    "N se le pasa como parámetro\n",
    "\n",
    "Ejemplo: n = 5<br>\n",
    "Resultado esperado: {1: 1, 2: 4, 3: 9, 4: 16, 5: 25}"
   ]
  },
  {
   "cell_type": "code",
   "execution_count": 519,
   "metadata": {},
   "outputs": [],
   "source": [
    "# Definir el código\n",
    "\n",
    "def generateDict(paramN):\n",
    "    dictFinal=dict()\n",
    "\n",
    "    for item in range(1,paramN+1):\n",
    "        dictFinal.update({item:item+1})\n",
    "\n",
    "    return dictFinal\n"
   ]
  },
  {
   "cell_type": "code",
   "execution_count": 520,
   "metadata": {},
   "outputs": [
    {
     "data": {
      "text/plain": [
       "{1: 2, 2: 3, 3: 4, 4: 5, 5: 6, 6: 7, 7: 8, 8: 9, 9: 10, 10: 11}"
      ]
     },
     "execution_count": 520,
     "metadata": {},
     "output_type": "execute_result"
    }
   ],
   "source": [
    "# Probar la función\n",
    "generateDict(10)"
   ]
  },
  {
   "cell_type": "markdown",
   "metadata": {},
   "source": [
    "\n",
    "## 4º. Generar diccionario de 2 listas\n"
   ]
  },
  {
   "cell_type": "markdown",
   "metadata": {},
   "source": [
    "Definir un código que genere un diccionario desde 2 listas. La 1ª lista serán las claves y la 2 lista serán los varlores<br>\n",
    "*pista: función zip*\n",
    "\n",
    "Ejemplo:<br>\n",
    "keys = ['red', 'green', 'blue']<br>\n",
    "values = ['#FF0000','#008000', '#0000FF']<br>\n",
    "Resultado esperado: {'red': '#FF0000', 'green': '#008000', 'blue': '#0000FF'}"
   ]
  },
  {
   "cell_type": "code",
   "execution_count": 521,
   "metadata": {},
   "outputs": [],
   "source": [
    "# Definir el código\n",
    "keys = ['red', 'green', 'blue']\n",
    "values = ['#FF0000','#008000', '#0000FF']\n"
   ]
  },
  {
   "cell_type": "markdown",
   "metadata": {},
   "source": [
    "\n",
    "## 5º. Generar diccionario desde String\n"
   ]
  },
  {
   "cell_type": "markdown",
   "metadata": {},
   "source": [
    "Definir un código que genere un diccionario desde una cadena pasada como parámetro, donde las Keys con las letras de la cadena, y el valor, el nº de veces que esa letra se repite<br>\n",
    "\n",
    "Ejemplo:<br>\n",
    "Ejemplo: 'w3resource'<br>\n",
    "Restulado Esperado: {'w': 1, '3': 1, 'r': 2, 'e': 2, 's': 1, 'o': 1, 'u': 1, 'c': 1}"
   ]
  },
  {
   "cell_type": "code",
   "execution_count": 522,
   "metadata": {},
   "outputs": [
    {
     "name": "stdout",
     "output_type": "stream",
     "text": [
      "{'H': 0, 'o': 0, 'l': 0, 'a': 0, '_': 0, 'b': 0, 'u': 0, 'e': 0, 'n': 0, 's': 0, 'd': 0, 'i': 0}\n"
     ]
    }
   ],
   "source": [
    "# Definir el código\n",
    "texto='Hola_buenos_dias'\n",
    "\n",
    "df={}\n",
    "\n",
    "for letra in texto:\n",
    "    df[letra]=df.get(letra,0)\n",
    "\n",
    "print(df)\n"
   ]
  },
  {
   "cell_type": "markdown",
   "metadata": {},
   "source": [
    "\n",
    "## 6º. Filtrar un diccionario sobre un valor\n"
   ]
  },
  {
   "cell_type": "markdown",
   "metadata": {},
   "source": [
    "Definir un función que filtre un diccionario pasado como parámetro y que devuelva otro diccionario que solo contenga los elementos cuyo valor sean mayores a ese valor.<br>\n",
    "\n",
    "Ejemplo: Mayor que 174<br>\n",
    "Ejemplo: toneladas = {'Alonso': 175, 'Juan': 180, 'Andres': 165, 'Ramon': 190}<br>\n",
    "Restulado Esperado:  {'Alonso': 175, 'Juan': 180, Ramon': 190}"
   ]
  },
  {
   "cell_type": "code",
   "execution_count": 523,
   "metadata": {},
   "outputs": [],
   "source": [
    "# definir el código\n"
   ]
  },
  {
   "cell_type": "code",
   "execution_count": 524,
   "metadata": {},
   "outputs": [],
   "source": [
    "# Probar el código\n",
    "toneladas = {'Alonso': 175, 'Juan': 180, 'Andres': 165, 'Ramon': 190}\n"
   ]
  },
  {
   "cell_type": "markdown",
   "metadata": {},
   "source": [
    "\n",
    "## 7º. Diccionarios anidados\n"
   ]
  },
  {
   "cell_type": "markdown",
   "metadata": {},
   "source": [
    "Definir un función que filtre un diccionario pasado como parámetro y que devuelva otro diccionario que solo contenga los elementos cuyo valor sean mayores a ese valor.<br>\n",
    "El diccionario pasado es un diccionario anidado, de la siguiente forma:<br>\n",
    "\n",
    "{\n",
    "  \"Juan\": {\n",
    "    \"altura\": 170,\n",
    "    \"peso\": 70\n",
    "  },\n",
    "  \"Alberto\": {\n",
    "    \"altura\": 185,\n",
    "    \"peso\": 90\n",
    "  },\n",
    "  \"Manuel\": {\n",
    "    \"altura\": 160,\n",
    "    \"peso\": 65\n",
    "  }\n",
    "}\n",
    "\n",
    "Definir una función que filter por la altura, y otra función que filter por el peso.\n",
    "*Se deverá devolver aquellos estudiantes que superen el peso o la altura*"
   ]
  },
  {
   "cell_type": "code",
   "execution_count": 589,
   "metadata": {},
   "outputs": [
    {
     "name": "stdout",
     "output_type": "stream",
     "text": [
      "Juan {'altura': 170, 'peso': 70}\n",
      "Alberto {'altura': 185, 'peso': 90}\n",
      "Manuel {'altura': 160, 'peso': 65}\n"
     ]
    }
   ],
   "source": [
    "# Probar el código\n",
    "\n",
    "amigos = {\n",
    "  \"Juan\": {\n",
    "    \"altura\": 170,\n",
    "    \"peso\": 70\n",
    "  },\n",
    "  \"Alberto\": {\n",
    "    \"altura\": 185,\n",
    "    \"peso\": 90\n",
    "  },\n",
    "  \"Manuel\": {\n",
    "    \"altura\": 160,\n",
    "    \"peso\": 65\n",
    "  }\n",
    "}\n",
    "\n",
    "filtroAltura = 168\n",
    "\n",
    "for clave,valor in amigos.items():\n",
    "  print(clave,valor)"
   ]
  },
  {
   "cell_type": "code",
   "execution_count": 590,
   "metadata": {},
   "outputs": [
    {
     "data": {
      "text/plain": [
       "[{'Juan': {'altura': 170, 'peso': 70}},\n",
       " {'Alberto': {'altura': 185, 'peso': 90}}]"
      ]
     },
     "execution_count": 590,
     "metadata": {},
     "output_type": "execute_result"
    }
   ],
   "source": [
    "# definir el código\n",
    "\n",
    "def filterDicByAltura(dictAfiltrar, filtroAltura):\n",
    "\n",
    "    listaDevolver = []\n",
    "\n",
    "    for nombreAlumno,informacionAlumno in amigos.items():\n",
    "\n",
    "        if(informacionAlumno[\"altura\"]>filtroAltura):\n",
    "            alumno = {nombreAlumno: informacionAlumno}\n",
    "            listaDevolver.append(alumno)\n",
    "    return listaDevolver\n",
    "    \n",
    "filterDicByAltura(amigos,165)"
   ]
  },
  {
   "cell_type": "code",
   "execution_count": 591,
   "metadata": {},
   "outputs": [
    {
     "data": {
      "text/plain": [
       "{}"
      ]
     },
     "execution_count": 591,
     "metadata": {},
     "output_type": "execute_result"
    }
   ],
   "source": [
    "# Probar el código\n",
    "filterDicByPeso(amigos,89)\n"
   ]
  }
 ],
 "metadata": {
  "kernelspec": {
   "display_name": "Python 3 (ipykernel)",
   "language": "python",
   "name": "python3"
  },
  "language_info": {
   "codemirror_mode": {
    "name": "ipython",
    "version": 3
   },
   "file_extension": ".py",
   "mimetype": "text/x-python",
   "name": "python",
   "nbconvert_exporter": "python",
   "pygments_lexer": "ipython3",
   "version": "3.10.2"
  }
 },
 "nbformat": 4,
 "nbformat_minor": 2
}
